{
 "cells": [
  {
   "cell_type": "code",
   "execution_count": 1,
   "id": "4792ff67",
   "metadata": {},
   "outputs": [],
   "source": [
    "import pandas as pd\n",
    "import json\n",
    "import random"
   ]
  },
  {
   "cell_type": "code",
   "execution_count": 2,
   "id": "0a2646a1",
   "metadata": {},
   "outputs": [],
   "source": [
    "price_history = pd.read_json('price_collection.json')\n",
    "price_history.columns = ['Date', 'Ticker', 'Volume', 'Open', 'Low', 'High', 'Close']\n",
    "price_history.sort_values('Date', ascending=True, inplace=True)\n",
    "\n",
    "with open('lotsize.json', \"r\") as read_file:\n",
    "    lotsize = json.load(read_file)\n",
    "    read_file.close()"
   ]
  },
  {
   "cell_type": "code",
   "execution_count": 13,
   "id": "646ed75e",
   "metadata": {},
   "outputs": [],
   "source": [
    "MOEXBC = ['ALRS', 'GAZP', 'GMKN', 'LKOH', 'MGNT', 'MTSS', 'NVTK', 'PHOR', 'PLZL', 'ROSN', 'SBER', 'SNGS', 'TATN', 'TCSG', 'YNDX']\n",
    "MCXSM = ['AFKS', 'AFLT', 'AQUA','AGRO', 'APTK', 'BELU', 'CIAN', 'ELFV', 'ETLN', 'FEES', 'FESH', 'FLOT', 'GEMC', 'GLTR', 'LENT', 'LSRG', 'MDMG', 'MRKC', 'MRKP', 'MSNG', 'MSRS', 'MTLR', 'MTLRP', 'MVID', 'OGKB', 'POLY', 'POSI', 'RASP', 'RNFT', 'RTKM', 'RTKMP', 'SELG', 'SFTL', 'SGZH', 'SMLT', 'TGKA', 'UPRO', 'VKCO']\n",
    "#MCXSM1 = ['AFKS', 'AFLT', 'AQUA','AGRO', 'CIAN', 'DSKY', 'ENRU', 'ETLN', 'FEES', 'FESH', 'FLOT', 'GEMC', 'GLTR', 'LENT', 'LSRG', 'MDMG', 'MRKC', 'MRKP', 'MSNG', 'MSRS', 'MTLR', 'MTLRP', 'MVID', 'OGKB', 'POLY', 'POSI', 'RASP', 'RNFT', 'RTKM', 'RTKMP', 'SELG', 'SFTL', 'SGZH', 'SMLT', 'TGKA', 'UPRO', 'VKCO']"
   ]
  },
  {
   "cell_type": "code",
   "execution_count": 14,
   "id": "418e7807",
   "metadata": {
    "scrolled": true
   },
   "outputs": [
    {
     "name": "stdout",
     "output_type": "stream",
     "text": [
      "2023-03-17 GLTR 467 183703.79 1.022\n",
      "2023-03-20 FLOT 3150 191863.57 1.044\n",
      "2023-03-21 MSNG 85000 199532.08 1.04\n",
      "2023-03-22 GEMC 557 210189.02 1.054\n",
      "2023-03-23 GEMC 552 230889.6 1.099\n",
      "2023-03-24 ETLN 4000 240733.84 1.043\n",
      "2023-03-27 AFLT 8060 265386.36 1.103\n",
      "2023-03-28 MTLR 1848 279103.5 1.052\n",
      "2023-03-29 MDMG 558 297229.46 1.065\n",
      "2023-03-30 RNFT 2837 355628.96 1.197\n",
      "2023-03-31 RNFT 2812 376634.04 1.059\n"
     ]
    }
   ],
   "source": [
    "#FOMO increase\n",
    "short_list = price_history[price_history['Date'] >= '2023-03-17']\n",
    "depo = 179728.94 #100000\n",
    "tax = 0.0005\n",
    "for selected_date in short_list.Date.unique():\n",
    "    day_max = 0\n",
    "    day_indx = None\n",
    "    for selected_ticker in short_list.Ticker.unique():\n",
    "        if selected_ticker in MCXSM: # MCXSM MOEXBC\n",
    "            check_len = short_list[(short_list['Ticker'] == selected_ticker) & (short_list['Date'] == selected_date)]\n",
    "            if len(check_len) > 0:\n",
    "                indx = check_len.index[0]\n",
    "                day_res = short_list.at[indx, 'Close'] /short_list.at[indx, 'Open']\n",
    "                lot = lotsize.get(short_list.at[indx, 'Ticker'])\n",
    "                deal_count =((1-tax)*depo)/(short_list.at[indx, 'Open']*lot)\n",
    "                deal_count =int(deal_count) * lot\n",
    "                day_res =  round((short_list.at[indx, 'Close'] - short_list.at[indx, 'Open']) * deal_count,2)\n",
    "                if (day_res > day_max):# and (short_list.at[indx, 'Volume']>10000000):\n",
    "                    day_max = day_res\n",
    "                    day_indx = indx\n",
    "    if day_indx != None:\n",
    "        lot = lotsize.get(short_list.at[day_indx, 'Ticker'])\n",
    "        deal_count =((1-tax)*depo)/(short_list.at[day_indx, 'Open']*lot)\n",
    "        deal_count =int(deal_count) * lot\n",
    "        profit =  round((short_list.at[day_indx, 'Close'] - short_list.at[day_indx, 'Open']) * deal_count,2)\n",
    "        res_deal =  round((short_list.at[day_indx, 'Close'] / short_list.at[day_indx, 'Open']) - 0.001,3)\n",
    "        comission = round((short_list.at[day_indx, 'Close'] + short_list.at[day_indx, 'Open']) * deal_count * tax,2)\n",
    "        depo = round(depo + profit - comission,2)\n",
    "        print (short_list.at[day_indx, 'Date'], short_list.at[day_indx, 'Ticker'], deal_count, depo, res_deal)"
   ]
  },
  {
   "cell_type": "code",
   "execution_count": 18,
   "id": "28d32802",
   "metadata": {},
   "outputs": [
    {
     "data": {
      "text/html": [
       "<div>\n",
       "<style scoped>\n",
       "    .dataframe tbody tr th:only-of-type {\n",
       "        vertical-align: middle;\n",
       "    }\n",
       "\n",
       "    .dataframe tbody tr th {\n",
       "        vertical-align: top;\n",
       "    }\n",
       "\n",
       "    .dataframe thead th {\n",
       "        text-align: right;\n",
       "    }\n",
       "</style>\n",
       "<table border=\"1\" class=\"dataframe\">\n",
       "  <thead>\n",
       "    <tr style=\"text-align: right;\">\n",
       "      <th></th>\n",
       "      <th>Date</th>\n",
       "      <th>Ticker</th>\n",
       "      <th>Volume</th>\n",
       "      <th>Open</th>\n",
       "      <th>Low</th>\n",
       "      <th>High</th>\n",
       "      <th>Close</th>\n",
       "    </tr>\n",
       "  </thead>\n",
       "  <tbody>\n",
       "    <tr>\n",
       "      <th>149706</th>\n",
       "      <td>2023-03-29</td>\n",
       "      <td>ELFV</td>\n",
       "      <td>46962000</td>\n",
       "      <td>0.5844</td>\n",
       "      <td>0.5746</td>\n",
       "      <td>0.5844</td>\n",
       "      <td>0.5780</td>\n",
       "    </tr>\n",
       "    <tr>\n",
       "      <th>149951</th>\n",
       "      <td>2023-03-30</td>\n",
       "      <td>ELFV</td>\n",
       "      <td>42819000</td>\n",
       "      <td>0.5818</td>\n",
       "      <td>0.5644</td>\n",
       "      <td>0.5818</td>\n",
       "      <td>0.5786</td>\n",
       "    </tr>\n",
       "    <tr>\n",
       "      <th>150196</th>\n",
       "      <td>2023-03-31</td>\n",
       "      <td>ELFV</td>\n",
       "      <td>40085000</td>\n",
       "      <td>0.5758</td>\n",
       "      <td>0.5680</td>\n",
       "      <td>0.5802</td>\n",
       "      <td>0.5728</td>\n",
       "    </tr>\n",
       "  </tbody>\n",
       "</table>\n",
       "</div>"
      ],
      "text/plain": [
       "              Date Ticker    Volume    Open     Low    High   Close\n",
       "149706  2023-03-29   ELFV  46962000  0.5844  0.5746  0.5844  0.5780\n",
       "149951  2023-03-30   ELFV  42819000  0.5818  0.5644  0.5818  0.5786\n",
       "150196  2023-03-31   ELFV  40085000  0.5758  0.5680  0.5802  0.5728"
      ]
     },
     "execution_count": 18,
     "metadata": {},
     "output_type": "execute_result"
    }
   ],
   "source": [
    "short_list[(short_list['Ticker'] == 'ELFV')]"
   ]
  },
  {
   "cell_type": "code",
   "execution_count": null,
   "id": "fe2b21b5",
   "metadata": {},
   "outputs": [],
   "source": []
  }
 ],
 "metadata": {
  "kernelspec": {
   "display_name": "Python 3 (ipykernel)",
   "language": "python",
   "name": "python3"
  },
  "language_info": {
   "codemirror_mode": {
    "name": "ipython",
    "version": 3
   },
   "file_extension": ".py",
   "mimetype": "text/x-python",
   "name": "python",
   "nbconvert_exporter": "python",
   "pygments_lexer": "ipython3",
   "version": "3.9.7"
  }
 },
 "nbformat": 4,
 "nbformat_minor": 5
}
