{
 "cells": [
  {
   "cell_type": "code",
   "execution_count": 1,
   "id": "e01ca06c",
   "metadata": {},
   "outputs": [],
   "source": [
    "import pandas as pd\n",
    "import requests\n",
    "import json\n",
    "import random\n",
    "active_date = '2022-03-29'"
   ]
  },
  {
   "cell_type": "code",
   "execution_count": 2,
   "id": "5e97a7cb",
   "metadata": {},
   "outputs": [],
   "source": [
    "price_history = pd.read_json('price_collection.json')\n",
    "price_history.columns = ['Date', 'Ticker', 'Volume', 'Open', 'Low', 'High', 'Close']\n",
    "price_history.sort_values('Date', ascending=True, inplace=True)\n",
    "price_history = price_history[price_history['Date'] > '2023-01-01']\n",
    "price_history = price_history.drop(columns=['Volume'])"
   ]
  },
  {
   "cell_type": "code",
   "execution_count": 3,
   "id": "b6dcb0a2",
   "metadata": {},
   "outputs": [],
   "source": [
    "iss_url = 'https://iss.moex.com/iss/engines/stock/markets/shares/boards/TQBR/securities.json?iss.meta=off&iss.only=marketdata&marketdata.columns=SECID,OPEN,LOW,HIGH,LAST'\n",
    "response = requests.get(iss_url)\n",
    "raw_data = json.loads(response.text)\n",
    "#file_name = 'securities.json'\n",
    "#with open(file_name, \"r\") as read_file:\n",
    "#    raw_data = json.load(read_file)\n",
    "#    read_file.close()"
   ]
  },
  {
   "cell_type": "code",
   "execution_count": 4,
   "id": "804ee2fe",
   "metadata": {},
   "outputs": [],
   "source": [
    "#SECID,OPEN,LOW,HIGH,LAST\n",
    "for i in raw_data[\"marketdata\"][\"data\"]:\n",
    "    'Date', 'Ticker', 'Open', 'Low', 'High', 'Close'\n",
    "    new_row = {'Date':active_date, 'Ticker':i[0], 'Open':i[1], 'Low':i[2], 'High':i[3], 'Close':i[4]} \n",
    "    price_history = price_history.append(new_row, ignore_index=True)"
   ]
  },
  {
   "cell_type": "code",
   "execution_count": 5,
   "id": "6188d4f9",
   "metadata": {},
   "outputs": [],
   "source": [
    "for selected_ticker in price_history.Ticker.unique(): \n",
    "    count_ema = price_history[price_history['Ticker'] == selected_ticker]\n",
    "    count_ema = count_ema['Close'].to_frame()\n",
    "    count_ema['Dayly_EMA'] = count_ema['Close'].ewm(span=20).mean()\n",
    "    for indx in count_ema.index:\n",
    "        price_history.at[indx, 'Dayly_EMA'] = count_ema.at[indx,'Dayly_EMA']"
   ]
  },
  {
   "cell_type": "code",
   "execution_count": 6,
   "id": "073c6910",
   "metadata": {},
   "outputs": [
    {
     "name": "stderr",
     "output_type": "stream",
     "text": [
      "C:\\Users\\Jeda\\AppData\\Local\\Temp/ipykernel_9836/1743291349.py:2: SettingWithCopyWarning: \n",
      "A value is trying to be set on a copy of a slice from a DataFrame.\n",
      "Try using .loc[row_indexer,col_indexer] = value instead\n",
      "\n",
      "See the caveats in the documentation: https://pandas.pydata.org/pandas-docs/stable/user_guide/indexing.html#returning-a-view-versus-a-copy\n",
      "  good_ticker['res'] = good_ticker['Close']/good_ticker['Dayly_EMA']\n"
     ]
    }
   ],
   "source": [
    "good_ticker = price_history[(price_history['Date'] == active_date) & (price_history['Open'] >= price_history['Dayly_EMA']) & (price_history['Dayly_EMA'] >= price_history['Low'])]\n",
    "good_ticker['res'] = good_ticker['Close']/good_ticker['Dayly_EMA']"
   ]
  },
  {
   "cell_type": "code",
   "execution_count": 7,
   "id": "6fb7fdde",
   "metadata": {},
   "outputs": [],
   "source": [
    "kk_list = []\n",
    "for j in range(0,1000000):\n",
    "    res = 0\n",
    "    for i in range(0,5):\n",
    "        new_indx = random.choice(good_ticker['Ticker'].index)\n",
    "        #print(good_ticker.at[new_indx, 'Ticker'])\n",
    "        res += good_ticker.at[new_indx, 'res']\n",
    "    #print(res)\n",
    "    kk_list.append(res/5)"
   ]
  },
  {
   "cell_type": "code",
   "execution_count": 8,
   "id": "373c004b",
   "metadata": {},
   "outputs": [
    {
     "name": "stdout",
     "output_type": "stream",
     "text": [
      "За 2022-03-10 условиям удовлетворяли 36 бумаг\n",
      "Выполнен 1 млн моделирований слуйчайных комбинаций\n",
      "Средняя доходность 1.3%\n",
      "Вероятность получить доход 99.9%\n",
      "Максимальная просадка -0.4%\n",
      "Максимальный доход 7.8%\n"
     ]
    }
   ],
   "source": [
    "kk_avg = round((sum(kk_list)/len(kk_list)-1)*100,1)\n",
    "plus = round(sum(True for i in kk_list if i > 1)/10000,1)\n",
    "minkk = round((min(kk_list)-1)*100,1)\n",
    "maxkk = round((max(kk_list)-1)*100,1)\n",
    "print('За '+active_date+' условиям удовлетворяли '+str(len(good_ticker))+' бумаг')\n",
    "print('Выполнен 1 млн моделирований слуйчайных комбинаций')\n",
    "print('Средняя доходность '+str(kk_avg)+'%')\n",
    "print('Вероятность получить доход '+str(plus)+'%')\n",
    "print('Максимальная просадка '+str(minkk)+'%')\n",
    "print('Максимальный доход '+str(maxkk)+'%')"
   ]
  },
  {
   "cell_type": "code",
   "execution_count": null,
   "id": "0508ae8c",
   "metadata": {},
   "outputs": [],
   "source": []
  }
 ],
 "metadata": {
  "kernelspec": {
   "display_name": "Python 3 (ipykernel)",
   "language": "python",
   "name": "python3"
  },
  "language_info": {
   "codemirror_mode": {
    "name": "ipython",
    "version": 3
   },
   "file_extension": ".py",
   "mimetype": "text/x-python",
   "name": "python",
   "nbconvert_exporter": "python",
   "pygments_lexer": "ipython3",
   "version": "3.9.7"
  }
 },
 "nbformat": 4,
 "nbformat_minor": 5
}
