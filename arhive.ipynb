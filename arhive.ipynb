{
 "cells": [
  {
   "cell_type": "code",
   "execution_count": null,
   "id": "ab17e70d",
   "metadata": {},
   "outputs": [],
   "source": [
    "#prevent SettingWithCopyWarning message from appearing\n",
    "pd.options.mode.chained_assignment = None\n",
    "period = price_history[(price_history['Date'] > '2023-05-08')]\n",
    "for d in period.Date.unique():\n",
    "    ranking = price_history.loc[price_history['Date'] == d]\n",
    "    ranking['Avg_sum'] = ranking['Volume'] * (ranking['High']+ranking['Low']+ranking['Close']) / 3\n",
    "    ranking.sort_values('Avg_sum', ascending=True, inplace=True)\n",
    "    ranking['DecileRank']= pd.qcut(ranking['Avg_sum'], q = 10, labels = False)\n",
    "    ttt = ranking.loc[ranking['Ticker'] == 'AFKS']"
   ]
  }
 ],
 "metadata": {
  "kernelspec": {
   "display_name": "Python 3 (ipykernel)",
   "language": "python",
   "name": "python3"
  },
  "language_info": {
   "codemirror_mode": {
    "name": "ipython",
    "version": 3
   },
   "file_extension": ".py",
   "mimetype": "text/x-python",
   "name": "python",
   "nbconvert_exporter": "python",
   "pygments_lexer": "ipython3",
   "version": "3.9.7"
  }
 },
 "nbformat": 4,
 "nbformat_minor": 5
}
