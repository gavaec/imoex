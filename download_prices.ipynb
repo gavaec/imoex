{
 "cells": [
  {
   "cell_type": "code",
   "execution_count": 1,
   "id": "1d88eb86",
   "metadata": {},
   "outputs": [],
   "source": [
    "import requests\n",
    "import json\n",
    "from datetime import date\n",
    "from dateutil.rrule import rrule, DAILY\n",
    "\n",
    "iss_url_raw = 'https://iss.moex.com/iss/history/engines/stock/markets/shares/boards/TQBR/securities.json'\n",
    "start_date = date(2023, 5, 25)\n",
    "end_date = start_date #date(2023, 5, 8)\n",
    "\n",
    "file_name = 'price_collection.json'\n",
    "with open(file_name, \"r\") as read_file:\n",
    "    tickers_list = json.load(read_file)\n",
    "    read_file.close()\n",
    "\n",
    "for d in rrule(DAILY, dtstart=start_date, until=end_date):\n",
    "    iss_date = d.strftime(\"%Y-%m-%d\")\n",
    "    iss_start = 0\n",
    "    tickers_count = 1\n",
    "    while iss_start < tickers_count:\n",
    "        iss_url = iss_url_raw + '?date=' + iss_date + '&start=' + str(iss_start)\n",
    "        response = requests.get(iss_url)\n",
    "        raw_data = json.loads(response.text)\n",
    "        if iss_start == 0:\n",
    "            tickers_count = raw_data[\"history.cursor\"][\"data\"][0][1]\n",
    "            columns_raw = raw_data[\"history\"][\"columns\"]\n",
    "            column_tradedate = columns_raw.index('TRADEDATE')\n",
    "            column_secid = columns_raw.index('SECID')\n",
    "            column_open = columns_raw.index('OPEN')\n",
    "            column_low = columns_raw.index('LOW')\n",
    "            column_high = columns_raw.index('HIGH')\n",
    "            column_close = columns_raw.index('CLOSE')\n",
    "            column_volume = columns_raw.index('VOLUME')\n",
    "        if tickers_count > 0:\n",
    "            raw_data = raw_data[\"history\"][\"data\"]  # list of ticker lists\n",
    "            for ticker in raw_data:\n",
    "                if ticker[column_volume] == 0:\n",
    "                    one_ticker = [ticker[column_tradedate], ticker[column_secid], ticker[column_volume],\n",
    "                                  0, 0, 0, 0]\n",
    "                else:\n",
    "                    one_ticker = [ticker[column_tradedate], ticker[column_secid], ticker[column_volume],\n",
    "                                  ticker[column_open], ticker[column_low], ticker[column_high], ticker[column_close]]\n",
    "                tickers_list.append(one_ticker)\n",
    "            iss_start += 100\n",
    "        else:\n",
    "            tickers_count = -1\n",
    "\n",
    "with open(file_name, \"w\", encoding='utf-8') as write_file:\n",
    "    json.dump(tickers_list, write_file, indent=4, separators=(',', ':'))\n",
    "    write_file.close()"
   ]
  },
  {
   "cell_type": "code",
   "execution_count": null,
   "id": "11496d6c",
   "metadata": {},
   "outputs": [],
   "source": []
  }
 ],
 "metadata": {
  "kernelspec": {
   "display_name": "Python 3 (ipykernel)",
   "language": "python",
   "name": "python3"
  },
  "language_info": {
   "codemirror_mode": {
    "name": "ipython",
    "version": 3
   },
   "file_extension": ".py",
   "mimetype": "text/x-python",
   "name": "python",
   "nbconvert_exporter": "python",
   "pygments_lexer": "ipython3",
   "version": "3.9.7"
  }
 },
 "nbformat": 4,
 "nbformat_minor": 5
}
