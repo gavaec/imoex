{
 "cells": [
  {
   "cell_type": "code",
   "execution_count": 1,
   "id": "083d8848",
   "metadata": {},
   "outputs": [],
   "source": [
    "import requests\n",
    "import pandas as pd\n",
    "import json"
   ]
  },
  {
   "cell_type": "code",
   "execution_count": 2,
   "id": "dbf095a7",
   "metadata": {},
   "outputs": [],
   "source": [
    "#input constants\n",
    "iss_date = '2023-05-30'\n",
    "file_name_prev = 'imoex_tqbr_price_2022.csv'\n",
    "file_name = 'imoex_tqbr_price_2023.csv'\n",
    "iss_url_raw = 'https://iss.moex.com/iss/history/engines/stock/markets/shares/boards/TQBR/securities.json'"
   ]
  },
  {
   "cell_type": "code",
   "execution_count": 3,
   "id": "31bd2974",
   "metadata": {},
   "outputs": [],
   "source": [
    "#upload cvs data\n",
    "df_prev = pd.read_csv(file_name_prev)\n",
    "df_tek = pd.read_csv(file_name)\n",
    "price_history = pd.concat([df_tek, df_prev])\n",
    "new_day_start_index = price_history['Index'].max() + 1\n",
    "price_history.set_index('Index', inplace=True)\n",
    "price_history.sort_values('Date', ascending=False, inplace=True)"
   ]
  },
  {
   "cell_type": "code",
   "execution_count": 4,
   "id": "33989eb3",
   "metadata": {},
   "outputs": [],
   "source": [
    "#upload lot size data\n",
    "with open('lotsize.json', \"r\") as read_file:\n",
    "    lotsize = json.load(read_file)\n",
    "    read_file.close()"
   ]
  },
  {
   "cell_type": "code",
   "execution_count": 5,
   "id": "1d88eb86",
   "metadata": {},
   "outputs": [],
   "source": [
    "#upload day results from MOEX\n",
    "tickers_list = []\n",
    "iss_start = 0\n",
    "tickers_count = 1\n",
    "while iss_start < tickers_count:\n",
    "    iss_url = iss_url_raw + '?date=' + iss_date + '&start=' + str(iss_start)\n",
    "    response = requests.get(iss_url)\n",
    "    raw_data = json.loads(response.text)\n",
    "    if iss_start == 0:\n",
    "        tickers_count = raw_data[\"history.cursor\"][\"data\"][0][1]\n",
    "        columns_raw = raw_data[\"history\"][\"columns\"]\n",
    "        column_tradedate = columns_raw.index('TRADEDATE')\n",
    "        column_secid = columns_raw.index('SECID')\n",
    "        column_open = columns_raw.index('OPEN')\n",
    "        column_low = columns_raw.index('LOW')\n",
    "        column_high = columns_raw.index('HIGH')\n",
    "        column_close = columns_raw.index('CLOSE')\n",
    "        column_volume = columns_raw.index('VOLUME')\n",
    "    raw_data = raw_data[\"history\"][\"data\"]  # list of ticker lists\n",
    "    for ticker in raw_data:\n",
    "        if ticker[column_volume] > 0:\n",
    "            one_ticker = [ticker[column_tradedate], ticker[column_secid], ticker[column_volume], ticker[column_open], ticker[column_low], ticker[column_high], ticker[column_close], 0, 0, 0, 0, 0, 0, 0]\n",
    "            tickers_list.append(one_ticker)\n",
    "    iss_start += 100"
   ]
  },
  {
   "cell_type": "code",
   "execution_count": 6,
   "id": "71c024a4",
   "metadata": {},
   "outputs": [],
   "source": [
    "#create and format frame for new day\n",
    "new_day = pd.DataFrame(tickers_list) \n",
    "new_day.columns = ['Date', 'Ticker', 'Volume', 'Open', 'Low', 'High', 'Close', 'VolEMA10', 'EMA10', 'EMA20', 'ATR', 'TR', 'Lot_trade', 'Rank']\n",
    "new_day.index += new_day_start_index\n",
    "convert_dict = {'VolEMA10': float,'EMA10': float,'EMA20': float,'ATR': float,'TR': float}\n",
    "new_day = new_day.astype(convert_dict)"
   ]
  },
  {
   "cell_type": "code",
   "execution_count": 7,
   "id": "53f537b1",
   "metadata": {},
   "outputs": [
    {
     "name": "stdout",
     "output_type": "stream",
     "text": [
      "[]\n"
     ]
    }
   ],
   "source": [
    "#calculating additional data\n",
    "no_data = []\n",
    "for i, indx in enumerate(new_day.index):\n",
    "    share = new_day.at[indx, 'Ticker']\n",
    "    if share == 'ENRU':\n",
    "        share = 'ELFV'\n",
    "        new_day.at[indx, 'Ticker'] = 'ELFV'\n",
    "    prev = price_history.loc[price_history.Ticker == share]\n",
    "    if len(prev) > 1:\n",
    "        prev = prev.index[0]\n",
    "        \n",
    "        tmp = new_day.at[indx,'Volume'] * 2/11 + price_history.at[prev,'VolEMA10']*(1-2/11)\n",
    "        new_day.at[indx,'VolEMA10'] = round(tmp, 0)\n",
    "        \n",
    "        tmp = new_day.at[indx,'Close'] * 2/11 + price_history.at[prev,'EMA10']*(1-2/11)\n",
    "        new_day.at[indx,'EMA10'] = round(tmp, 6)\n",
    "        \n",
    "        tmp = new_day.at[indx,'Close'] * 2/21 + price_history.at[prev,'EMA20']*(1-2/21)\n",
    "        new_day.at[indx,'EMA20'] = round(tmp, 6)        \n",
    "        \n",
    "        tr1 = new_day.at[indx,'High'] - new_day.at[indx,'Low']\n",
    "        tr2 = abs(new_day.at[indx,'High'] - price_history.at[prev,'Close'])\n",
    "        tr3 = abs(price_history.at[prev,'Close'] - new_day.at[indx,'Low'])                    \n",
    "        tmp = max(tr1, tr2, tr3)\n",
    "        new_day.at[indx,'TR'] = round(tmp, 6)\n",
    "        \n",
    "        tmp = (price_history.at[prev,'ATR']*13 + new_day.at[indx,'TR'])/14\n",
    "        new_day.at[indx,'ATR'] = round(tmp, 6)\n",
    "        \n",
    "        tmp = new_day.at[indx, 'VolEMA10'] / lotsize.get(share)\n",
    "        new_day.at[indx,'Lot_trade'] = round(tmp, 0)\n",
    "    else:\n",
    "        no_data.append(indx)\n",
    "print(no_data)"
   ]
  },
  {
   "cell_type": "code",
   "execution_count": 8,
   "id": "55e64c52",
   "metadata": {},
   "outputs": [],
   "source": [
    "#prevent SettingWithCopyWarning message from appearing and calculate rank\n",
    "pd.options.mode.chained_assignment = None\n",
    "new_day.sort_values('Lot_trade', ascending=True, inplace=True)\n",
    "new_day['Rank']= pd.qcut(new_day['Lot_trade'], q = 10, labels = False)\n",
    "for i,indx in enumerate(new_day.index):    \n",
    "    new_day.at[indx, 'Rank'] = 10-new_day.at[indx, 'Rank']"
   ]
  },
  {
   "cell_type": "code",
   "execution_count": 9,
   "id": "183ed188",
   "metadata": {},
   "outputs": [],
   "source": [
    "#update csv data\n",
    "new_day.to_csv(file_name, mode='a', header=False)"
   ]
  },
  {
   "cell_type": "code",
   "execution_count": null,
   "id": "70eba501",
   "metadata": {},
   "outputs": [],
   "source": []
  }
 ],
 "metadata": {
  "kernelspec": {
   "display_name": "Python 3 (ipykernel)",
   "language": "python",
   "name": "python3"
  },
  "language_info": {
   "codemirror_mode": {
    "name": "ipython",
    "version": 3
   },
   "file_extension": ".py",
   "mimetype": "text/x-python",
   "name": "python",
   "nbconvert_exporter": "python",
   "pygments_lexer": "ipython3",
   "version": "3.9.7"
  }
 },
 "nbformat": 4,
 "nbformat_minor": 5
}
